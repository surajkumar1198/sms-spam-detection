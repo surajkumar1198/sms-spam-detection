{
 "cells": [
  {
   "cell_type": "code",
   "execution_count": 1,
   "metadata": {},
   "outputs": [],
   "source": [
    "import numpy as np\n",
    "import pandas as pd\n",
    "import matplotlib.pyplot as plt"
   ]
  },
  {
   "cell_type": "code",
   "execution_count": 2,
   "metadata": {},
   "outputs": [],
   "source": [
    "dataset=pd.read_csv('./smsspamcollection/SMSSpamCollection.csv', sep='\\t',names=['label','sms'])\n",
    "# labels=dataset['labels']\n",
    "# message=dataset['sms']"
   ]
  },
  {
   "cell_type": "code",
   "execution_count": 3,
   "metadata": {
    "scrolled": false
   },
   "outputs": [
    {
     "data": {
      "text/html": [
       "<div>\n",
       "<style scoped>\n",
       "    .dataframe tbody tr th:only-of-type {\n",
       "        vertical-align: middle;\n",
       "    }\n",
       "\n",
       "    .dataframe tbody tr th {\n",
       "        vertical-align: top;\n",
       "    }\n",
       "\n",
       "    .dataframe thead th {\n",
       "        text-align: right;\n",
       "    }\n",
       "</style>\n",
       "<table border=\"1\" class=\"dataframe\">\n",
       "  <thead>\n",
       "    <tr style=\"text-align: right;\">\n",
       "      <th></th>\n",
       "      <th>label</th>\n",
       "      <th>sms</th>\n",
       "    </tr>\n",
       "  </thead>\n",
       "  <tbody>\n",
       "    <tr>\n",
       "      <td>0</td>\n",
       "      <td>ham</td>\n",
       "      <td>Go until jurong point, crazy.. Available only ...</td>\n",
       "    </tr>\n",
       "    <tr>\n",
       "      <td>1</td>\n",
       "      <td>ham</td>\n",
       "      <td>Ok lar... Joking wif u oni...</td>\n",
       "    </tr>\n",
       "    <tr>\n",
       "      <td>2</td>\n",
       "      <td>spam</td>\n",
       "      <td>Free entry in 2 a wkly comp to win FA Cup fina...</td>\n",
       "    </tr>\n",
       "    <tr>\n",
       "      <td>3</td>\n",
       "      <td>ham</td>\n",
       "      <td>U dun say so early hor... U c already then say...</td>\n",
       "    </tr>\n",
       "    <tr>\n",
       "      <td>4</td>\n",
       "      <td>ham</td>\n",
       "      <td>Nah I don't think he goes to usf, he lives aro...</td>\n",
       "    </tr>\n",
       "  </tbody>\n",
       "</table>\n",
       "</div>"
      ],
      "text/plain": [
       "  label                                                sms\n",
       "0   ham  Go until jurong point, crazy.. Available only ...\n",
       "1   ham                      Ok lar... Joking wif u oni...\n",
       "2  spam  Free entry in 2 a wkly comp to win FA Cup fina...\n",
       "3   ham  U dun say so early hor... U c already then say...\n",
       "4   ham  Nah I don't think he goes to usf, he lives aro..."
      ]
     },
     "execution_count": 3,
     "metadata": {},
     "output_type": "execute_result"
    }
   ],
   "source": [
    "dataset.head()"
   ]
  },
  {
   "cell_type": "code",
   "execution_count": 4,
   "metadata": {},
   "outputs": [
    {
     "data": {
      "text/plain": [
       "ham     4825\n",
       "spam     747\n",
       "Name: label, dtype: int64"
      ]
     },
     "execution_count": 4,
     "metadata": {},
     "output_type": "execute_result"
    }
   ],
   "source": [
    "dataset['label'].value_counts()"
   ]
  },
  {
   "cell_type": "markdown",
   "metadata": {},
   "source": [
    "## Preprocessing of data"
   ]
  },
  {
   "cell_type": "code",
   "execution_count": 5,
   "metadata": {},
   "outputs": [],
   "source": [
    "from sklearn.preprocessing import LabelEncoder\n",
    "le=LabelEncoder()"
   ]
  },
  {
   "cell_type": "code",
   "execution_count": 6,
   "metadata": {},
   "outputs": [],
   "source": [
    "y_data=dataset['label'].values"
   ]
  },
  {
   "cell_type": "code",
   "execution_count": 7,
   "metadata": {},
   "outputs": [],
   "source": [
    "y_data=le.fit_transform(y_data)"
   ]
  },
  {
   "cell_type": "code",
   "execution_count": 8,
   "metadata": {},
   "outputs": [
    {
     "name": "stdout",
     "output_type": "stream",
     "text": [
      "[0 0 1 ... 0 0 0]\n"
     ]
    }
   ],
   "source": [
    "print(y_data)"
   ]
  },
  {
   "cell_type": "code",
   "execution_count": 9,
   "metadata": {},
   "outputs": [
    {
     "name": "stdout",
     "output_type": "stream",
     "text": [
      "0       Go until jurong point, crazy.. Available only ...\n",
      "1                           Ok lar... Joking wif u oni...\n",
      "2       Free entry in 2 a wkly comp to win FA Cup fina...\n",
      "3       U dun say so early hor... U c already then say...\n",
      "4       Nah I don't think he goes to usf, he lives aro...\n",
      "                              ...                        \n",
      "5567    This is the 2nd time we have tried 2 contact u...\n",
      "5568                 Will ü b going to esplanade fr home?\n",
      "5569    Pity, * was in mood for that. So...any other s...\n",
      "5570    The guy did some bitching but I acted like i'd...\n",
      "5571                           Rofl. Its true to its name\n",
      "Name: sms, Length: 5572, dtype: object\n"
     ]
    }
   ],
   "source": [
    "print(dataset['sms'])"
   ]
  },
  {
   "cell_type": "markdown",
   "metadata": {},
   "source": [
    "#### removing stopwords and stemming"
   ]
  },
  {
   "cell_type": "code",
   "execution_count": 10,
   "metadata": {},
   "outputs": [],
   "source": [
    "import re\n",
    "from nltk.corpus import stopwords\n",
    "from nltk.stem import PorterStemmer"
   ]
  },
  {
   "cell_type": "code",
   "execution_count": 11,
   "metadata": {},
   "outputs": [],
   "source": [
    "sw=set(stopwords.words('english'))\n",
    "ps=PorterStemmer()"
   ]
  },
  {
   "cell_type": "code",
   "execution_count": 12,
   "metadata": {},
   "outputs": [],
   "source": [
    "def cleantext(sample):\n",
    "    sample=sample.lower()\n",
    "    sample=sample.replace(\"<br /><br />\",\" \")\n",
    "    sample=re.sub(\"[^a-zA-Z]+\",\" \",sample)\n",
    "    \n",
    "    sample=sample.split(\" \")\n",
    "    sample=[ps.stem(s) for s in sample if s not in sw] # stemming and removing stopwords\n",
    "    \n",
    "    sample=\" \".join(sample)\n",
    "    \n",
    "    return sample"
   ]
  },
  {
   "cell_type": "code",
   "execution_count": 13,
   "metadata": {},
   "outputs": [
    {
     "data": {
      "text/plain": [
       "'go jurong point crazi avail bugi n great world la e buffet cine got amor wat '"
      ]
     },
     "execution_count": 13,
     "metadata": {},
     "output_type": "execute_result"
    }
   ],
   "source": [
    "cleantext(dataset['sms'][0])"
   ]
  },
  {
   "cell_type": "code",
   "execution_count": 14,
   "metadata": {},
   "outputs": [
    {
     "data": {
      "text/plain": [
       "'Go until jurong point, crazy.. Available only in bugis n great world la e buffet... Cine there got amore wat...'"
      ]
     },
     "execution_count": 14,
     "metadata": {},
     "output_type": "execute_result"
    }
   ],
   "source": [
    "dataset['sms'][0]"
   ]
  },
  {
   "cell_type": "code",
   "execution_count": 15,
   "metadata": {},
   "outputs": [],
   "source": [
    "# Apply clean text function to each sms\n",
    "\n",
    "dataset['cleanedmessage']=dataset['sms'].apply(cleantext)"
   ]
  },
  {
   "cell_type": "code",
   "execution_count": 16,
   "metadata": {},
   "outputs": [],
   "source": [
    "corpus=dataset['cleanedmessage'].values"
   ]
  },
  {
   "cell_type": "markdown",
   "metadata": {},
   "source": [
    "## vectorization / Feature extraction"
   ]
  },
  {
   "cell_type": "code",
   "execution_count": 17,
   "metadata": {},
   "outputs": [],
   "source": [
    "from sklearn.feature_extraction.text import CountVectorizer,TfidfTransformer"
   ]
  },
  {
   "cell_type": "code",
   "execution_count": 18,
   "metadata": {},
   "outputs": [],
   "source": [
    "#CountVectorizer transformer from the sklearn.feature_extraction model has its own internal tokenization\n",
    "#and normalization methods\n",
    "\n",
    "cv=CountVectorizer(max_df=0.5,max_features=50000)"
   ]
  },
  {
   "cell_type": "code",
   "execution_count": 19,
   "metadata": {},
   "outputs": [],
   "source": [
    "x_data=cv.fit_transform(corpus)"
   ]
  },
  {
   "cell_type": "code",
   "execution_count": 20,
   "metadata": {},
   "outputs": [
    {
     "data": {
      "text/plain": [
       "(5572, 6296)"
      ]
     },
     "execution_count": 20,
     "metadata": {},
     "output_type": "execute_result"
    }
   ],
   "source": [
    "x_data.shape"
   ]
  },
  {
   "cell_type": "code",
   "execution_count": 21,
   "metadata": {},
   "outputs": [
    {
     "name": "stdout",
     "output_type": "stream",
     "text": [
      "  (0, 2171)\t1\n",
      "  (0, 2827)\t1\n",
      "  (0, 4091)\t1\n",
      "  (0, 1169)\t1\n",
      "  (0, 379)\t1\n",
      "  (0, 738)\t1\n",
      "  (0, 2245)\t1\n",
      "  (0, 6135)\t1\n",
      "  (0, 2932)\t1\n",
      "  (0, 736)\t1\n",
      "  (0, 964)\t1\n",
      "  (0, 2208)\t1\n",
      "  (0, 190)\t1\n",
      "  (0, 5957)\t1\n"
     ]
    }
   ],
   "source": [
    "print(x_data[0])"
   ]
  },
  {
   "cell_type": "code",
   "execution_count": 22,
   "metadata": {},
   "outputs": [],
   "source": [
    "# Assign weights to every word in the vocab using tf-idf\n",
    "tfidf=TfidfTransformer()"
   ]
  },
  {
   "cell_type": "code",
   "execution_count": 23,
   "metadata": {},
   "outputs": [],
   "source": [
    "x_data=tfidf.fit_transform(x_data)"
   ]
  },
  {
   "cell_type": "code",
   "execution_count": 24,
   "metadata": {},
   "outputs": [
    {
     "name": "stdout",
     "output_type": "stream",
     "text": [
      "  (0, 6135)\t0.23616756554565888\n",
      "  (0, 5957)\t0.19460776670194488\n",
      "  (0, 4091)\t0.24055424511726686\n",
      "  (0, 2932)\t0.28506031120996994\n",
      "  (0, 2827)\t0.3522946643655987\n",
      "  (0, 2245)\t0.19460776670194488\n",
      "  (0, 2208)\t0.1649859743034801\n",
      "  (0, 2171)\t0.14066343975170745\n",
      "  (0, 1169)\t0.27282796669086984\n",
      "  (0, 964)\t0.29761995607435426\n",
      "  (0, 738)\t0.29761995607435426\n",
      "  (0, 736)\t0.33630333732147566\n",
      "  (0, 379)\t0.26350491969128115\n",
      "  (0, 190)\t0.3522946643655987\n"
     ]
    }
   ],
   "source": [
    "print(x_data[0])"
   ]
  },
  {
   "cell_type": "code",
   "execution_count": 25,
   "metadata": {},
   "outputs": [
    {
     "data": {
      "text/plain": [
       "(5572, 6296)"
      ]
     },
     "execution_count": 25,
     "metadata": {},
     "output_type": "execute_result"
    }
   ],
   "source": [
    "x_data.shape"
   ]
  },
  {
   "cell_type": "code",
   "execution_count": 26,
   "metadata": {},
   "outputs": [
    {
     "data": {
      "text/plain": [
       "(5572,)"
      ]
     },
     "execution_count": 26,
     "metadata": {},
     "output_type": "execute_result"
    }
   ],
   "source": [
    "y_data.shape"
   ]
  },
  {
   "cell_type": "markdown",
   "metadata": {},
   "source": [
    "### splitting of dataset"
   ]
  },
  {
   "cell_type": "code",
   "execution_count": 27,
   "metadata": {},
   "outputs": [],
   "source": [
    "from sklearn.model_selection import train_test_split\n",
    "X_train,X_test,y_train,y_test = train_test_split(x_data,y_data,test_size=0.3,random_state=42)"
   ]
  },
  {
   "cell_type": "code",
   "execution_count": 28,
   "metadata": {},
   "outputs": [],
   "source": [
    "#Function for plotting confusion matrix\n",
    "\n",
    "import itertools\n",
    "def plot_confusion_matrix(cm, classes,\n",
    "                          normalize=False,\n",
    "                          title='Confusion matrix',\n",
    "                          cmap=plt.cm.Blues):\n",
    "    \"\"\"\n",
    "    This function prints and plots the confusion matrix.\n",
    "    Normalization can be applied by setting `normalize=True`.\n",
    "    \"\"\"\n",
    "    if normalize:\n",
    "        cm = cm.astype('float') / cm.sum(axis=1)[:, np.newaxis]\n",
    "        print(\"Normalized confusion matrix\")\n",
    "    else:\n",
    "        print('Confusion matrix, without normalization')\n",
    "\n",
    "    print(cm)\n",
    "    #plt.figure(figsize=[10,10])\n",
    "    plt.imshow(cm, interpolation='nearest', cmap=cmap)\n",
    "    plt.title(title)\n",
    "    plt.colorbar()\n",
    "    tick_marks = np.arange(len(classes))\n",
    "    plt.xticks(tick_marks, classes, rotation=45)\n",
    "    plt.yticks(tick_marks, classes)\n",
    "\n",
    "    fmt = '.2f' if normalize else 'd'\n",
    "    thresh = cm.max() / 2.\n",
    "    for i, j in itertools.product(range(cm.shape[0]), range(cm.shape[1])):\n",
    "        plt.text(j, i, format(cm[i, j], fmt),\n",
    "                 horizontalalignment=\"center\",\n",
    "                 verticalalignment=\"center\",\n",
    "                 color=\"blue\" if cm[i, j] > thresh else \"black\")\n",
    "\n",
    "    plt.ylabel('True label')\n",
    "    plt.xlabel('Predicted label')\n",
    "    plt.tight_layout()"
   ]
  },
  {
   "cell_type": "code",
   "execution_count": 29,
   "metadata": {},
   "outputs": [],
   "source": [
    "# FUNCTION TO CALCULATE TRUE POSITIVE, TRUE NEGATIVE ,FALSE POSITIVE AND FALSE NEGATIVE \n",
    "\n",
    "def perf_measure(y_actual, y_hat):\n",
    "    y_actual=np.array(y_actual)\n",
    "    y_hat=np.array(y_hat)\n",
    "    TP = 0\n",
    "    FP = 0\n",
    "    TN = 0\n",
    "    FN = 0\n",
    "\n",
    "    for i in range(len(y_hat)): \n",
    "        if y_actual[i]==y_hat[i] and y_hat[i]==1:\n",
    "           TP += 1\n",
    "        if y_hat[i]==1 and y_actual[i]!=y_hat[i]:\n",
    "           FP += 1\n",
    "        if y_actual[i]==y_hat[i]==0:\n",
    "           TN += 1\n",
    "        if y_hat[i]==0 and y_actual[i]!=y_hat[i]:\n",
    "           FN += 1\n",
    "\n",
    "    return(TP, FP, TN, FN)"
   ]
  },
  {
   "cell_type": "markdown",
   "metadata": {},
   "source": [
    "### Importing classifiers using sklearn"
   ]
  },
  {
   "cell_type": "code",
   "execution_count": 30,
   "metadata": {},
   "outputs": [],
   "source": [
    "from sklearn.metrics import confusion_matrix\n",
    "from sklearn import metrics\n",
    "from sklearn.linear_model import LogisticRegression\n",
    "from sklearn.metrics import confusion_matrix,classification_report\n",
    "from sklearn.naive_bayes import MultinomialNB\n",
    "from sklearn.neighbors import KNeighborsClassifier\n",
    "from sklearn import svm\n",
    "from sklearn.tree import DecisionTreeClassifier\n",
    "from sklearn.ensemble import RandomForestClassifier\n",
    "from sklearn.ensemble import AdaBoostClassifier\n",
    "\n",
    "from sklearn.metrics import accuracy_score\n",
    "from sklearn.metrics import precision_score\n",
    "from sklearn.metrics import f1_score\n",
    "from sklearn.metrics import recall_score"
   ]
  },
  {
   "cell_type": "markdown",
   "metadata": {},
   "source": [
    "## Logistic Regression"
   ]
  },
  {
   "cell_type": "code",
   "execution_count": 31,
   "metadata": {},
   "outputs": [],
   "source": [
    "clf_lr= LogisticRegression(solver='liblinear', penalty='l1')\n",
    "clf_lr.fit(X_train, y_train)\n",
    "pred_lr=clf_lr.predict(X_test)"
   ]
  },
  {
   "cell_type": "code",
   "execution_count": 32,
   "metadata": {},
   "outputs": [
    {
     "data": {
      "text/plain": [
       "0.9671052631578947"
      ]
     },
     "execution_count": 32,
     "metadata": {},
     "output_type": "execute_result"
    }
   ],
   "source": [
    "clf_lr.score(X_test,y_test)"
   ]
  },
  {
   "cell_type": "code",
   "execution_count": 33,
   "metadata": {},
   "outputs": [
    {
     "name": "stdout",
     "output_type": "stream",
     "text": [
      "              precision    recall  f1-score   support\n",
      "\n",
      "           0       0.97      0.99      0.98      1448\n",
      "           1       0.96      0.79      0.87       224\n",
      "\n",
      "    accuracy                           0.97      1672\n",
      "   macro avg       0.96      0.89      0.92      1672\n",
      "weighted avg       0.97      0.97      0.97      1672\n",
      "\n"
     ]
    }
   ],
   "source": [
    "print(classification_report(y_test,pred_lr))"
   ]
  },
  {
   "cell_type": "code",
   "execution_count": 34,
   "metadata": {},
   "outputs": [
    {
     "name": "stdout",
     "output_type": "stream",
     "text": [
      "Confusion matrix, without normalization\n",
      "[[1440    8]\n",
      " [  47  177]]\n"
     ]
    },
    {
     "data": {
      "image/png": "[encoded data removed]",
      "text/plain": [
       "<Figure size 432x288 with 2 Axes>"
      ]
     },
     "metadata": {
      "needs_background": "light"
     },
     "output_type": "display_data"
    }
   ],
   "source": [
    "# VISUALIZNG CONFUSION MATRIX\n",
    "\n",
    "cnf_matrix_lr=confusion_matrix(y_test,pred_lr)\n",
    "#print(cnf_matrix_lr)\n",
    "plot_confusion_matrix(cnf_matrix_lr,[0,1],normalize=False,title=\"Confusion Matrix\")"
   ]
  },
  {
   "cell_type": "code",
   "execution_count": 35,
   "metadata": {},
   "outputs": [
    {
     "data": {
      "image/png": "[encoded data removed]",
      "text/plain": [
       "<Figure size 432x288 with 1 Axes>"
      ]
     },
     "metadata": {
      "needs_background": "light"
     },
     "output_type": "display_data"
    }
   ],
   "source": [
    "# PLOTTING AUC-ROC CURVE\n",
    "\n",
    "probs_lr= clf_lr.predict_proba(X_test)\n",
    "probs_lr=probs_lr[:,1]\n",
    "fpr, tpr, thresholds = metrics.roc_curve(y_test,probs_lr)\n",
    "plt.title(\"AUC-ROC curve--LR\",color=\"green\",fontsize=20)\n",
    "plt.xlabel(\"False positive rate\")\n",
    "plt.ylabel(\"True positive rate\")\n",
    "plt.plot(fpr,tpr,linewidth=2, markersize=12)\n",
    "plt.show()"
   ]
  },
  {
   "cell_type": "markdown",
   "metadata": {},
   "source": [
    "## MNB"
   ]
  },
  {
   "cell_type": "code",
   "execution_count": 36,
   "metadata": {},
   "outputs": [
    {
     "name": "stdout",
     "output_type": "stream",
     "text": [
      "Accuracy :  0.9826555023923444\n"
     ]
    }
   ],
   "source": [
    "clf_mnb=MultinomialNB(alpha=0.2)\n",
    "\n",
    "clf_mnb.fit(X_train,y_train)\n",
    "pred_mnb=clf_mnb.predict(X_test)\n",
    "acc_mnb=clf_mnb.score(X_test,y_test)\n",
    "\n",
    "#acc=accuracy_score(y_test,pred)\n",
    "print(\"Accuracy : \",acc_mnb)"
   ]
  },
  {
   "cell_type": "code",
   "execution_count": 37,
   "metadata": {},
   "outputs": [
    {
     "name": "stdout",
     "output_type": "stream",
     "text": [
      "              precision    recall  f1-score   support\n",
      "\n",
      "           0       0.99      0.99      0.99      1448\n",
      "           1       0.95      0.92      0.93       224\n",
      "\n",
      "    accuracy                           0.98      1672\n",
      "   macro avg       0.97      0.96      0.96      1672\n",
      "weighted avg       0.98      0.98      0.98      1672\n",
      "\n"
     ]
    }
   ],
   "source": [
    "print(classification_report(y_test,pred_mnb))"
   ]
  },
  {
   "cell_type": "code",
   "execution_count": 38,
   "metadata": {},
   "outputs": [
    {
     "name": "stdout",
     "output_type": "stream",
     "text": [
      "Confusion matrix, without normalization\n",
      "[[1437   11]\n",
      " [  18  206]]\n"
     ]
    },
    {
     "data": {
      "image/png": "[encoded data removed]",
      "text/plain": [
       "<Figure size 432x288 with 2 Axes>"
      ]
     },
     "metadata": {
      "needs_background": "light"
     },
     "output_type": "display_data"
    }
   ],
   "source": [
    "# VISUALIZNG CONFUSION MATRIX\n",
    "\n",
    "cnf_matrix_mnb=confusion_matrix(y_test,pred_mnb)\n",
    "#print(cnf_matrix_mnb)\n",
    "plot_confusion_matrix(cnf_matrix_mnb,[0,1],normalize=False,title=\"Confusion Matrix\")"
   ]
  },
  {
   "cell_type": "code",
   "execution_count": 39,
   "metadata": {},
   "outputs": [
    {
     "data": {
      "image/png": "[encoded data removed]",
      "text/plain": [
       "<Figure size 432x288 with 1 Axes>"
      ]
     },
     "metadata": {
      "needs_background": "light"
     },
     "output_type": "display_data"
    }
   ],
   "source": [
    "# PLOTTING AUC-ROC CURVE\n",
    "\n",
    "probs_mnb= clf_mnb.predict_proba(X_test)\n",
    "probs_mnb=probs_mnb[:,1]\n",
    "fpr, tpr, thresholds = metrics.roc_curve(y_test,probs_mnb)\n",
    "plt.title(\"AUC-ROC curve--MNB\",color=\"green\",fontsize=20)\n",
    "plt.xlabel(\"False positive rate\")\n",
    "plt.ylabel(\"True positive rate\")\n",
    "plt.plot(fpr,tpr,linewidth=2, markersize=12)\n",
    "plt.show()"
   ]
  },
  {
   "cell_type": "markdown",
   "metadata": {},
   "source": [
    "## KNN"
   ]
  },
  {
   "cell_type": "code",
   "execution_count": 40,
   "metadata": {},
   "outputs": [
    {
     "name": "stdout",
     "output_type": "stream",
     "text": [
      "Accuracy :  0.9545454545454546\n"
     ]
    }
   ],
   "source": [
    "clf_knn= KNeighborsClassifier(n_neighbors=49)\n",
    "clf_knn.fit(X_train,y_train)\n",
    "\n",
    "pred_knn=clf_knn.predict(X_test)\n",
    "acc_knn=clf_knn.score(X_test,y_test)\n",
    "\n",
    "print(\"Accuracy : \",acc_knn)"
   ]
  },
  {
   "cell_type": "code",
   "execution_count": 41,
   "metadata": {},
   "outputs": [
    {
     "name": "stdout",
     "output_type": "stream",
     "text": [
      "              precision    recall  f1-score   support\n",
      "\n",
      "           0       0.95      1.00      0.97      1448\n",
      "           1       0.99      0.67      0.80       224\n",
      "\n",
      "    accuracy                           0.95      1672\n",
      "   macro avg       0.97      0.83      0.89      1672\n",
      "weighted avg       0.96      0.95      0.95      1672\n",
      "\n"
     ]
    }
   ],
   "source": [
    "print(classification_report(y_test,pred_knn))"
   ]
  },
  {
   "cell_type": "code",
   "execution_count": 42,
   "metadata": {},
   "outputs": [
    {
     "name": "stdout",
     "output_type": "stream",
     "text": [
      "Confusion matrix, without normalization\n",
      "[[1447    1]\n",
      " [  75  149]]\n"
     ]
    },
    {
     "data": {
      "image/png": "[encoded data removed]",
      "text/plain": [
       "<Figure size 432x288 with 2 Axes>"
      ]
     },
     "metadata": {
      "needs_background": "light"
     },
     "output_type": "display_data"
    }
   ],
   "source": [
    "# VISUALIZNG CONFUSION MATRIX\n",
    "\n",
    "cnf_matrix_knn=confusion_matrix(y_test,pred_knn)\n",
    "#print(cnf_matrix_knn)\n",
    "plot_confusion_matrix(cnf_matrix_knn,[0,1],normalize=False,title=\"Confusion Matrix\")"
   ]
  },
  {
   "cell_type": "code",
   "execution_count": 43,
   "metadata": {},
   "outputs": [
    {
     "data": {
      "image/png": "[encoded data removed]",
      "text/plain": [
       "<Figure size 432x288 with 1 Axes>"
      ]
     },
     "metadata": {
      "needs_background": "light"
     },
     "output_type": "display_data"
    }
   ],
   "source": [
    "# PLOTTING AUC-ROC CURVE\n",
    "\n",
    "probs_knn= clf_knn.predict_proba(X_test)\n",
    "probs_knn=probs_knn[:,1]\n",
    "fpr, tpr, thresholds = metrics.roc_curve(y_test,probs_knn)\n",
    "plt.title(\"AUC-ROC curve--KNN\",color=\"green\",fontsize=20)\n",
    "plt.xlabel(\"False positive rate\")\n",
    "plt.ylabel(\"True positive rate\")\n",
    "plt.plot(fpr,tpr,linewidth=2, markersize=12)\n",
    "plt.show()"
   ]
  },
  {
   "cell_type": "markdown",
   "metadata": {},
   "source": [
    "## SVM"
   ]
  },
  {
   "cell_type": "code",
   "execution_count": 44,
   "metadata": {},
   "outputs": [
    {
     "name": "stdout",
     "output_type": "stream",
     "text": [
      "Accuracy :  0.9808612440191388\n"
     ]
    }
   ],
   "source": [
    "clf_svm = svm.SVC(kernel='sigmoid', gamma=1.0,probability=True)\n",
    "\n",
    "clf_svm.fit(X_train,y_train)\n",
    "pred_svm=clf_svm.predict(X_test)\n",
    "acc_svm=clf_svm.score(X_test,y_test)\n",
    "\n",
    "print(\"Accuracy : \",acc_svm)"
   ]
  },
  {
   "cell_type": "code",
   "execution_count": 45,
   "metadata": {},
   "outputs": [
    {
     "name": "stdout",
     "output_type": "stream",
     "text": [
      "              precision    recall  f1-score   support\n",
      "\n",
      "           0       0.98      1.00      0.99      1448\n",
      "           1       0.98      0.88      0.92       224\n",
      "\n",
      "    accuracy                           0.98      1672\n",
      "   macro avg       0.98      0.94      0.96      1672\n",
      "weighted avg       0.98      0.98      0.98      1672\n",
      "\n"
     ]
    }
   ],
   "source": [
    "print(classification_report(y_test,pred_svm))"
   ]
  },
  {
   "cell_type": "code",
   "execution_count": 46,
   "metadata": {},
   "outputs": [
    {
     "name": "stdout",
     "output_type": "stream",
     "text": [
      "Confusion matrix, without normalization\n",
      "[[1443    5]\n",
      " [  27  197]]\n"
     ]
    },
    {
     "data": {
      "image/png": "[encoded data removed]",
      "text/plain": [
       "<Figure size 432x288 with 2 Axes>"
      ]
     },
     "metadata": {
      "needs_background": "light"
     },
     "output_type": "display_data"
    }
   ],
   "source": [
    "# VISUALIZNG CONFUSION MATRIX\n",
    "\n",
    "cnf_matrix_svm=confusion_matrix(y_test,pred_svm)\n",
    "#print(cnf_matrix_svm)\n",
    "plot_confusion_matrix(cnf_matrix_svm,[0,1],normalize=False,title=\"Confusion Matrix\")"
   ]
  },
  {
   "cell_type": "code",
   "execution_count": 47,
   "metadata": {},
   "outputs": [
    {
     "data": {
      "image/png": "[encoded data removed]",
      "text/plain": [
       "<Figure size 432x288 with 1 Axes>"
      ]
     },
     "metadata": {
      "needs_background": "light"
     },
     "output_type": "display_data"
    }
   ],
   "source": [
    "# PLOTTING AUC-ROC CURVE\n",
    "\n",
    "probs_svm= clf_svm.predict_proba(X_test)\n",
    "probs_svm=probs_svm[:,1]\n",
    "fpr, tpr, thresholds = metrics.roc_curve(y_test,probs_svm)\n",
    "plt.title(\"AUC-ROC curve--SVM\",color=\"green\",fontsize=20)\n",
    "plt.xlabel(\"False positive rate\")\n",
    "plt.ylabel(\"True positive rate\")\n",
    "plt.plot(fpr,tpr,linewidth=2, markersize=12)\n",
    "plt.show()"
   ]
  },
  {
   "cell_type": "markdown",
   "metadata": {},
   "source": [
    "## DTC"
   ]
  },
  {
   "cell_type": "code",
   "execution_count": 48,
   "metadata": {},
   "outputs": [
    {
     "name": "stdout",
     "output_type": "stream",
     "text": [
      "Accuracy :  0.9706937799043063\n"
     ]
    }
   ],
   "source": [
    "clf_dtc=DecisionTreeClassifier(random_state=0)\n",
    "\n",
    "clf_dtc.fit(X_train,y_train)\n",
    "pred_dtc=clf_dtc.predict(X_test)\n",
    "acc_dtc=clf_dtc.score(X_test,y_test)\n",
    "\n",
    "print(\"Accuracy : \",acc_dtc)"
   ]
  },
  {
   "cell_type": "code",
   "execution_count": 49,
   "metadata": {},
   "outputs": [
    {
     "name": "stdout",
     "output_type": "stream",
     "text": [
      "              precision    recall  f1-score   support\n",
      "\n",
      "           0       0.98      0.98      0.98      1448\n",
      "           1       0.89      0.89      0.89       224\n",
      "\n",
      "    accuracy                           0.97      1672\n",
      "   macro avg       0.94      0.94      0.94      1672\n",
      "weighted avg       0.97      0.97      0.97      1672\n",
      "\n"
     ]
    }
   ],
   "source": [
    "print(classification_report(y_test,pred_dtc))"
   ]
  },
  {
   "cell_type": "code",
   "execution_count": 50,
   "metadata": {},
   "outputs": [
    {
     "name": "stdout",
     "output_type": "stream",
     "text": [
      "Confusion matrix, without normalization\n",
      "[[1424   24]\n",
      " [  25  199]]\n"
     ]
    },
    {
     "data": {
      "image/png": "[encoded data removed]",
      "text/plain": [
       "<Figure size 432x288 with 2 Axes>"
      ]
     },
     "metadata": {
      "needs_background": "light"
     },
     "output_type": "display_data"
    }
   ],
   "source": [
    "# VISUALIZNG CONFUSION MATRIX\n",
    "\n",
    "cnf_matrix_dtc=confusion_matrix(y_test,pred_dtc)\n",
    "#print(cnf_matrix_dtc)\n",
    "plot_confusion_matrix(cnf_matrix_dtc,[0,1],normalize=False,title=\"Confusion Matrix\")"
   ]
  },
  {
   "cell_type": "code",
   "execution_count": 51,
   "metadata": {},
   "outputs": [
    {
     "data": {
      "image/png": "[encoded data removed]",
      "text/plain": [
       "<Figure size 432x288 with 1 Axes>"
      ]
     },
     "metadata": {
      "needs_background": "light"
     },
     "output_type": "display_data"
    }
   ],
   "source": [
    "# PLOTTING AUC-ROC CURVE\n",
    "\n",
    "probs_dtc= clf_dtc.predict_proba(X_test)\n",
    "probs_dtc=probs_dtc[:,1]\n",
    "fpr, tpr, thresholds = metrics.roc_curve(y_test,probs_dtc)\n",
    "plt.title(\"AUC-ROC curve--DTC\",color=\"green\",fontsize=20)\n",
    "plt.xlabel(\"False positive rate\")\n",
    "plt.ylabel(\"True positive rate\")\n",
    "plt.plot(fpr,tpr,linewidth=2, markersize=12)\n",
    "plt.show()"
   ]
  },
  {
   "cell_type": "markdown",
   "metadata": {},
   "source": [
    "## Random Forest"
   ]
  },
  {
   "cell_type": "code",
   "execution_count": 52,
   "metadata": {},
   "outputs": [
    {
     "name": "stdout",
     "output_type": "stream",
     "text": [
      "Accuracy :  0.9778708133971292\n"
     ]
    }
   ],
   "source": [
    "clf_rf= RandomForestClassifier(n_estimators=31, random_state=111)\n",
    "\n",
    "clf_rf.fit(X_train,y_train)\n",
    "pred_rf=clf_rf.predict(X_test)\n",
    "acc_rf=clf_rf.score(X_test,y_test)\n",
    "\n",
    "print(\"Accuracy : \",acc_rf)"
   ]
  },
  {
   "cell_type": "code",
   "execution_count": 53,
   "metadata": {},
   "outputs": [
    {
     "name": "stdout",
     "output_type": "stream",
     "text": [
      "              precision    recall  f1-score   support\n",
      "\n",
      "           0       0.98      1.00      0.99      1448\n",
      "           1       1.00      0.83      0.91       224\n",
      "\n",
      "    accuracy                           0.98      1672\n",
      "   macro avg       0.99      0.92      0.95      1672\n",
      "weighted avg       0.98      0.98      0.98      1672\n",
      "\n"
     ]
    }
   ],
   "source": [
    "print(classification_report(y_test,pred_rf))"
   ]
  },
  {
   "cell_type": "code",
   "execution_count": 54,
   "metadata": {},
   "outputs": [
    {
     "name": "stdout",
     "output_type": "stream",
     "text": [
      "Confusion matrix, without normalization\n",
      "[[1448    0]\n",
      " [  37  187]]\n"
     ]
    },
    {
     "data": {
      "image/png": "[encoded data removed]",
      "text/plain": [
       "<Figure size 432x288 with 2 Axes>"
      ]
     },
     "metadata": {
      "needs_background": "light"
     },
     "output_type": "display_data"
    }
   ],
   "source": [
    "# VISUALIZNG CONFUSION MATRIX\n",
    "\n",
    "cnf_matrix_rf=confusion_matrix(y_test,pred_rf)\n",
    "#print(cnf_matrix_rf)\n",
    "plot_confusion_matrix(cnf_matrix_rf,[0,1],normalize=False,title=\"Confusion Matrix\")"
   ]
  },
  {
   "cell_type": "code",
   "execution_count": 55,
   "metadata": {},
   "outputs": [
    {
     "data": {
      "image/png": "[encoded data removed]",
      "text/plain": [
       "<Figure size 432x288 with 1 Axes>"
      ]
     },
     "metadata": {
      "needs_background": "light"
     },
     "output_type": "display_data"
    }
   ],
   "source": [
    "# PLOTTING AUC-ROC CURVE\n",
    "\n",
    "probs_rf= clf_rf.predict_proba(X_test)\n",
    "probs_rf=probs_rf[:,1]\n",
    "fpr, tpr, thresholds = metrics.roc_curve(y_test,probs_rf)\n",
    "\n",
    "plt.title(\"AUC-ROC curve--RandomForest\",color=\"green\",fontsize=20)\n",
    "plt.xlabel(\"False positive rate\")\n",
    "plt.ylabel(\"True positive rate\")\n",
    "plt.plot(fpr,tpr,linewidth=2, markersize=12)\n",
    "plt.show()"
   ]
  },
  {
   "cell_type": "markdown",
   "metadata": {},
   "source": [
    "## AdaBoost"
   ]
  },
  {
   "cell_type": "code",
   "execution_count": 56,
   "metadata": {},
   "outputs": [
    {
     "name": "stdout",
     "output_type": "stream",
     "text": [
      "Accuracy :  0.9766746411483254\n"
     ]
    }
   ],
   "source": [
    "clf_adb=AdaBoostClassifier(n_estimators=62, random_state=111)\n",
    "\n",
    "clf_adb.fit(X_train,y_train)\n",
    "pred_adb=clf_adb.predict(X_test)\n",
    "acc_adb=clf_adb.score(X_test,y_test)\n",
    "\n",
    "print(\"Accuracy : \",acc_adb)"
   ]
  },
  {
   "cell_type": "code",
   "execution_count": 57,
   "metadata": {},
   "outputs": [
    {
     "name": "stdout",
     "output_type": "stream",
     "text": [
      "              precision    recall  f1-score   support\n",
      "\n",
      "           0       0.98      0.99      0.99      1448\n",
      "           1       0.96      0.87      0.91       224\n",
      "\n",
      "    accuracy                           0.98      1672\n",
      "   macro avg       0.97      0.93      0.95      1672\n",
      "weighted avg       0.98      0.98      0.98      1672\n",
      "\n"
     ]
    }
   ],
   "source": [
    "print(classification_report(y_test,pred_adb))"
   ]
  },
  {
   "cell_type": "code",
   "execution_count": 58,
   "metadata": {},
   "outputs": [
    {
     "name": "stdout",
     "output_type": "stream",
     "text": [
      "Confusion matrix, without normalization\n",
      "[[1439    9]\n",
      " [  30  194]]\n"
     ]
    },
    {
     "data": {
      "image/png": "[encoded data removed]",
      "text/plain": [
       "<Figure size 432x288 with 2 Axes>"
      ]
     },
     "metadata": {
      "needs_background": "light"
     },
     "output_type": "display_data"
    }
   ],
   "source": [
    "# VISUALIZNG CONFUSION MATRIX\n",
    "\n",
    "cnf_matrix_adb=confusion_matrix(y_test,pred_adb)\n",
    "#print(cnf_matrix_adb)\n",
    "plot_confusion_matrix(cnf_matrix_adb,[0,1],normalize=False,title=\"Confusion Matrix\")"
   ]
  },
  {
   "cell_type": "code",
   "execution_count": 59,
   "metadata": {},
   "outputs": [
    {
     "data": {
      "image/png": "[encoded data removed]",
      "text/plain": [
       "<Figure size 432x288 with 1 Axes>"
      ]
     },
     "metadata": {
      "needs_background": "light"
     },
     "output_type": "display_data"
    }
   ],
   "source": [
    "# PLOTTING AUC-ROC CURVE\n",
    "\n",
    "probs_adb= clf_adb.predict_proba(X_test)\n",
    "probs_adb=probs_adb[:,1]\n",
    "fpr, tpr, thresholds = metrics.roc_curve(y_test,probs_adb)\n",
    "\n",
    "plt.title(\"AUC-ROC curve--AdaBoost\",color=\"green\",fontsize=20)\n",
    "plt.xlabel(\"False positive rate\")\n",
    "plt.ylabel(\"True positive rate\")\n",
    "plt.plot(fpr,tpr,linewidth=2, markersize=12)\n",
    "plt.show()"
   ]
  },
  {
   "cell_type": "markdown",
   "metadata": {},
   "source": [
    "## MLP"
   ]
  },
  {
   "cell_type": "code",
   "execution_count": 60,
   "metadata": {},
   "outputs": [
    {
     "name": "stderr",
     "output_type": "stream",
     "text": [
      "Using TensorFlow backend.\n"
     ]
    }
   ],
   "source": [
    "from keras import models\n",
    "from keras.layers import Dense"
   ]
  },
  {
   "cell_type": "code",
   "execution_count": 61,
   "metadata": {},
   "outputs": [],
   "source": [
    "model=models.Sequential()\n",
    "model.add(Dense(16,activation='relu',input_shape=(X_train.shape[1],)))\n",
    "model.add(Dense(16,activation='relu'))\n",
    "model.add(Dense(1,activation='sigmoid'))"
   ]
  },
  {
   "cell_type": "code",
   "execution_count": 62,
   "metadata": {},
   "outputs": [],
   "source": [
    "model.compile(optimizer=\"rmsprop\",loss=\"binary_crossentropy\",metrics=['accuracy'])"
   ]
  },
  {
   "cell_type": "code",
   "execution_count": 63,
   "metadata": {},
   "outputs": [
    {
     "name": "stdout",
     "output_type": "stream",
     "text": [
      "Epoch 1/100\n",
      "3900/3900 [==============================] - 0s 109us/step - loss: 0.6366 - accuracy: 0.8408\n",
      "Epoch 2/100\n",
      "3900/3900 [==============================] - 0s 52us/step - loss: 0.5114 - accuracy: 0.8951\n",
      "Epoch 3/100\n",
      "3900/3900 [==============================] - 0s 50us/step - loss: 0.3806 - accuracy: 0.9367\n",
      "Epoch 4/100\n",
      "3900/3900 [==============================] - 0s 74us/step - loss: 0.2653 - accuracy: 0.9541\n",
      "Epoch 5/100\n",
      "3900/3900 [==============================] - 0s 61us/step - loss: 0.1780 - accuracy: 0.9695\n",
      "Epoch 6/100\n",
      "3900/3900 [==============================] - 0s 48us/step - loss: 0.1183 - accuracy: 0.9803\n",
      "Epoch 7/100\n",
      "3900/3900 [==============================] - 0s 73us/step - loss: 0.0802 - accuracy: 0.9851\n",
      "Epoch 8/100\n",
      "3900/3900 [==============================] - 0s 84us/step - loss: 0.0565 - accuracy: 0.9864\n",
      "Epoch 9/100\n",
      "3900/3900 [==============================] - 0s 52us/step - loss: 0.0415 - accuracy: 0.9877\n",
      "Epoch 10/100\n",
      "3900/3900 [==============================] - 0s 52us/step - loss: 0.0321 - accuracy: 0.9905\n",
      "Epoch 11/100\n",
      "3900/3900 [==============================] - 0s 50us/step - loss: 0.0255 - accuracy: 0.9928\n",
      "Epoch 12/100\n",
      "3900/3900 [==============================] - 0s 49us/step - loss: 0.0210 - accuracy: 0.9944\n",
      "Epoch 13/100\n",
      "3900/3900 [==============================] - 0s 51us/step - loss: 0.0174 - accuracy: 0.9951\n",
      "Epoch 14/100\n",
      "3900/3900 [==============================] - 0s 54us/step - loss: 0.0146 - accuracy: 0.9959\n",
      "Epoch 15/100\n",
      "3900/3900 [==============================] - 0s 50us/step - loss: 0.0123 - accuracy: 0.9964\n",
      "Epoch 16/100\n",
      "3900/3900 [==============================] - 0s 56us/step - loss: 0.0104 - accuracy: 0.9969\n",
      "Epoch 17/100\n",
      "3900/3900 [==============================] - 0s 53us/step - loss: 0.0090 - accuracy: 0.9974\n",
      "Epoch 18/100\n",
      "3900/3900 [==============================] - 0s 54us/step - loss: 0.0076 - accuracy: 0.9974\n",
      "Epoch 19/100\n",
      "3900/3900 [==============================] - 0s 53us/step - loss: 0.0066 - accuracy: 0.9974\n",
      "Epoch 20/100\n",
      "3900/3900 [==============================] - 0s 53us/step - loss: 0.0056 - accuracy: 0.9977\n",
      "Epoch 21/100\n",
      "3900/3900 [==============================] - 0s 50us/step - loss: 0.0049 - accuracy: 0.9977\n",
      "Epoch 22/100\n",
      "3900/3900 [==============================] - 0s 57us/step - loss: 0.0041 - accuracy: 0.9979\n",
      "Epoch 23/100\n",
      "3900/3900 [==============================] - 0s 53us/step - loss: 0.0036 - accuracy: 0.9982\n",
      "Epoch 24/100\n",
      "3900/3900 [==============================] - 0s 53us/step - loss: 0.0030 - accuracy: 0.9985\n",
      "Epoch 25/100\n",
      "3900/3900 [==============================] - 0s 54us/step - loss: 0.0026 - accuracy: 0.9990\n",
      "Epoch 26/100\n",
      "3900/3900 [==============================] - 0s 55us/step - loss: 0.0022 - accuracy: 0.9990\n",
      "Epoch 27/100\n",
      "3900/3900 [==============================] - 0s 54us/step - loss: 0.0018 - accuracy: 0.9995\n",
      "Epoch 28/100\n",
      "3900/3900 [==============================] - 0s 52us/step - loss: 0.0016 - accuracy: 0.9995\n",
      "Epoch 29/100\n",
      "3900/3900 [==============================] - 0s 54us/step - loss: 0.0013 - accuracy: 0.9997\n",
      "Epoch 30/100\n",
      "3900/3900 [==============================] - 0s 55us/step - loss: 0.0011 - accuracy: 1.0000\n",
      "Epoch 31/100\n",
      "3900/3900 [==============================] - 0s 84us/step - loss: 8.6971e-04 - accuracy: 1.0000\n",
      "Epoch 32/100\n",
      "3900/3900 [==============================] - 0s 91us/step - loss: 7.3010e-04 - accuracy: 1.0000\n",
      "Epoch 33/100\n",
      "3900/3900 [==============================] - 0s 54us/step - loss: 5.8340e-04 - accuracy: 1.0000\n",
      "Epoch 34/100\n",
      "3900/3900 [==============================] - 0s 53us/step - loss: 4.6146e-04 - accuracy: 1.0000\n",
      "Epoch 35/100\n",
      "3900/3900 [==============================] - 0s 52us/step - loss: 3.9225e-04 - accuracy: 1.0000\n",
      "Epoch 36/100\n",
      "3900/3900 [==============================] - 0s 53us/step - loss: 3.0178e-04 - accuracy: 1.0000\n",
      "Epoch 37/100\n",
      "3900/3900 [==============================] - 0s 54us/step - loss: 2.5910e-04 - accuracy: 1.0000\n",
      "Epoch 38/100\n",
      "3900/3900 [==============================] - 0s 52us/step - loss: 2.0866e-04 - accuracy: 1.0000\n",
      "Epoch 39/100\n",
      "3900/3900 [==============================] - 0s 50us/step - loss: 1.6432e-04 - accuracy: 1.0000\n",
      "Epoch 40/100\n",
      "3900/3900 [==============================] - 0s 64us/step - loss: 1.2745e-04 - accuracy: 1.0000\n",
      "Epoch 41/100\n",
      "3900/3900 [==============================] - 0s 77us/step - loss: 1.0026e-04 - accuracy: 1.0000\n",
      "Epoch 42/100\n",
      "3900/3900 [==============================] - 0s 50us/step - loss: 8.3564e-05 - accuracy: 1.0000\n",
      "Epoch 43/100\n",
      "3900/3900 [==============================] - 0s 50us/step - loss: 6.9430e-05 - accuracy: 1.0000\n",
      "Epoch 44/100\n",
      "3900/3900 [==============================] - 0s 48us/step - loss: 5.2944e-05 - accuracy: 1.0000\n",
      "Epoch 45/100\n",
      "3900/3900 [==============================] - 0s 49us/step - loss: 4.4253e-05 - accuracy: 1.0000\n",
      "Epoch 46/100\n",
      "3900/3900 [==============================] - 0s 74us/step - loss: 3.5364e-05 - accuracy: 1.0000\n",
      "Epoch 47/100\n",
      "3900/3900 [==============================] - 0s 58us/step - loss: 2.6241e-05 - accuracy: 1.0000\n",
      "Epoch 48/100\n",
      "3900/3900 [==============================] - 0s 55us/step - loss: 2.2265e-05 - accuracy: 1.0000\n",
      "Epoch 49/100\n",
      "3900/3900 [==============================] - 0s 54us/step - loss: 1.7858e-05 - accuracy: 1.0000\n",
      "Epoch 50/100\n",
      "3900/3900 [==============================] - 0s 52us/step - loss: 1.4353e-05 - accuracy: 1.0000\n",
      "Epoch 51/100\n",
      "3900/3900 [==============================] - 0s 53us/step - loss: 1.0979e-05 - accuracy: 1.0000\n",
      "Epoch 52/100\n",
      "3900/3900 [==============================] - 0s 56us/step - loss: 8.6668e-06 - accuracy: 1.0000\n",
      "Epoch 53/100\n",
      "3900/3900 [==============================] - 0s 50us/step - loss: 7.2702e-06 - accuracy: 1.0000\n",
      "Epoch 54/100\n",
      "3900/3900 [==============================] - 0s 47us/step - loss: 5.6363e-06 - accuracy: 1.0000\n",
      "Epoch 55/100\n",
      "3900/3900 [==============================] - 0s 47us/step - loss: 4.5397e-06 - accuracy: 1.0000\n",
      "Epoch 56/100\n",
      "3900/3900 [==============================] - 0s 45us/step - loss: 3.6365e-06 - accuracy: 1.0000\n",
      "Epoch 57/100\n",
      "3900/3900 [==============================] - 0s 51us/step - loss: 2.6997e-06 - accuracy: 1.0000\n",
      "Epoch 58/100\n",
      "3900/3900 [==============================] - 0s 47us/step - loss: 2.1534e-06 - accuracy: 1.0000\n",
      "Epoch 59/100\n",
      "3900/3900 [==============================] - 0s 51us/step - loss: 1.5650e-06 - accuracy: 1.0000\n",
      "Epoch 60/100\n",
      "3900/3900 [==============================] - 0s 49us/step - loss: 1.3522e-06 - accuracy: 1.0000\n",
      "Epoch 61/100\n",
      "3900/3900 [==============================] - 0s 51us/step - loss: 1.0254e-06 - accuracy: 1.0000\n",
      "Epoch 62/100\n",
      "3900/3900 [==============================] - 0s 46us/step - loss: 7.4106e-07 - accuracy: 1.0000\n",
      "Epoch 63/100\n",
      "3900/3900 [==============================] - 0s 51us/step - loss: 6.3282e-07 - accuracy: 1.0000\n",
      "Epoch 64/100\n",
      "3900/3900 [==============================] - 0s 49us/step - loss: 4.6889e-07 - accuracy: 1.0000\n",
      "Epoch 65/100\n",
      "3900/3900 [==============================] - 0s 46us/step - loss: 3.7973e-07 - accuracy: 1.0000\n",
      "Epoch 66/100\n",
      "3900/3900 [==============================] - 0s 72us/step - loss: 2.9399e-07 - accuracy: 1.0000\n",
      "Epoch 67/100\n",
      "3900/3900 [==============================] - 0s 69us/step - loss: 2.4068e-07 - accuracy: 1.0000\n",
      "Epoch 68/100\n",
      "3900/3900 [==============================] - 0s 48us/step - loss: 1.9312e-07 - accuracy: 1.0000\n",
      "Epoch 69/100\n",
      "3900/3900 [==============================] - 0s 52us/step - loss: 1.3930e-07 - accuracy: 1.0000\n",
      "Epoch 70/100\n",
      "3900/3900 [==============================] - 0s 82us/step - loss: 1.2481e-07 - accuracy: 1.0000\n",
      "Epoch 71/100\n",
      "3900/3900 [==============================] - 0s 65us/step - loss: 1.0844e-07 - accuracy: 1.0000\n",
      "Epoch 72/100\n",
      "3900/3900 [==============================] - 0s 84us/step - loss: 7.9652e-08 - accuracy: 1.0000\n",
      "Epoch 73/100\n",
      "3900/3900 [==============================] - 0s 55us/step - loss: 7.2149e-08 - accuracy: 1.0000\n",
      "Epoch 74/100\n",
      "3900/3900 [==============================] - 0s 52us/step - loss: 5.6239e-08 - accuracy: 1.0000\n",
      "Epoch 75/100\n",
      "3900/3900 [==============================] - 0s 48us/step - loss: 4.5983e-08 - accuracy: 1.0000\n",
      "Epoch 76/100\n",
      "3900/3900 [==============================] - 0s 67us/step - loss: 4.0908e-08 - accuracy: 1.0000\n",
      "Epoch 77/100\n",
      "3900/3900 [==============================] - 0s 80us/step - loss: 3.5070e-08 - accuracy: 1.0000\n",
      "Epoch 78/100\n",
      "3900/3900 [==============================] - 0s 57us/step - loss: 2.9776e-08 - accuracy: 1.0000\n",
      "Epoch 79/100\n",
      "3900/3900 [==============================] - 0s 91us/step - loss: 2.5605e-08 - accuracy: 1.0000\n",
      "Epoch 80/100\n",
      "3900/3900 [==============================] - 0s 81us/step - loss: 2.3005e-08 - accuracy: 1.0000\n",
      "Epoch 81/100\n",
      "3900/3900 [==============================] - 0s 50us/step - loss: 2.0379e-08 - accuracy: 1.0000\n",
      "Epoch 82/100\n",
      "3900/3900 [==============================] - 0s 53us/step - loss: 1.7887e-08 - accuracy: 1.0000\n",
      "Epoch 83/100\n",
      "3900/3900 [==============================] - 0s 77us/step - loss: 1.6512e-08 - accuracy: 1.0000\n",
      "Epoch 84/100\n",
      "3900/3900 [==============================] - 0s 52us/step - loss: 1.4296e-08 - accuracy: 1.0000\n",
      "Epoch 85/100\n",
      "3900/3900 [==============================] - 0s 47us/step - loss: 1.3341e-08 - accuracy: 1.0000\n",
      "Epoch 86/100\n",
      "3900/3900 [==============================] - 0s 50us/step - loss: 1.2389e-08 - accuracy: 1.0000\n",
      "Epoch 87/100\n",
      "3900/3900 [==============================] - 0s 47us/step - loss: 1.1635e-08 - accuracy: 1.0000\n",
      "Epoch 88/100\n",
      "3900/3900 [==============================] - 0s 48us/step - loss: 1.0548e-08 - accuracy: 1.0000\n",
      "Epoch 89/100\n",
      "3900/3900 [==============================] - 0s 46us/step - loss: 9.6140e-09 - accuracy: 1.0000\n",
      "Epoch 90/100\n",
      "3900/3900 [==============================] - 0s 51us/step - loss: 9.0870e-09 - accuracy: 1.0000\n",
      "Epoch 91/100\n",
      "3900/3900 [==============================] - 0s 47us/step - loss: 8.9521e-09 - accuracy: 1.0000\n",
      "Epoch 92/100\n",
      "3900/3900 [==============================] - 0s 48us/step - loss: 8.0782e-09 - accuracy: 1.0000\n",
      "Epoch 93/100\n",
      "3900/3900 [==============================] - 0s 48us/step - loss: 7.9230e-09 - accuracy: 1.0000\n",
      "Epoch 94/100\n",
      "3900/3900 [==============================] - 0s 52us/step - loss: 7.2534e-09 - accuracy: 1.0000\n",
      "Epoch 95/100\n",
      "3900/3900 [==============================] - 0s 48us/step - loss: 6.8744e-09 - accuracy: 1.0000\n",
      "Epoch 96/100\n",
      "3900/3900 [==============================] - 0s 66us/step - loss: 6.6144e-09 - accuracy: 1.0000\n",
      "Epoch 97/100\n",
      "3900/3900 [==============================] - 0s 48us/step - loss: 6.3290e-09 - accuracy: 1.0000\n",
      "Epoch 98/100\n",
      "3900/3900 [==============================] - 0s 47us/step - loss: 5.9526e-09 - accuracy: 1.0000\n",
      "Epoch 99/100\n",
      "3900/3900 [==============================] - 0s 55us/step - loss: 5.7770e-09 - accuracy: 1.0000\n",
      "Epoch 100/100\n",
      "3900/3900 [==============================] - 0s 79us/step - loss: 5.4587e-09 - accuracy: 1.0000\n"
     ]
    }
   ],
   "source": [
    "hist=model.fit(X_train,y_train,batch_size=128,epochs=100)"
   ]
  },
  {
   "cell_type": "code",
   "execution_count": 64,
   "metadata": {},
   "outputs": [
    {
     "name": "stdout",
     "output_type": "stream",
     "text": [
      "[[0.]\n",
      " [0.]\n",
      " [0.]\n",
      " ...\n",
      " [0.]\n",
      " [1.]\n",
      " [0.]]\n"
     ]
    }
   ],
   "source": [
    "pred_mlp=model.predict(X_test)\n",
    "pred_mlp[pred_mlp>=0.5]=1\n",
    "pred_mlp[pred_mlp<0.5]=0\n",
    "print(pred_mlp)"
   ]
  },
  {
   "cell_type": "code",
   "execution_count": 65,
   "metadata": {},
   "outputs": [
    {
     "name": "stdout",
     "output_type": "stream",
     "text": [
      "0.9826555023923444\n"
     ]
    }
   ],
   "source": [
    "acc_mlp=accuracy_score(pred_mlp,y_test)\n",
    "print(acc_mlp)"
   ]
  },
  {
   "cell_type": "code",
   "execution_count": 66,
   "metadata": {},
   "outputs": [
    {
     "name": "stdout",
     "output_type": "stream",
     "text": [
      "              precision    recall  f1-score   support\n",
      "\n",
      "           0       0.98      1.00      0.99      1448\n",
      "           1       0.99      0.88      0.93       224\n",
      "\n",
      "    accuracy                           0.98      1672\n",
      "   macro avg       0.98      0.94      0.96      1672\n",
      "weighted avg       0.98      0.98      0.98      1672\n",
      "\n"
     ]
    }
   ],
   "source": [
    "print(classification_report(y_test,pred_mlp))"
   ]
  },
  {
   "cell_type": "code",
   "execution_count": 67,
   "metadata": {},
   "outputs": [
    {
     "name": "stdout",
     "output_type": "stream",
     "text": [
      "Confusion matrix, without normalization\n",
      "[[1445    3]\n",
      " [  26  198]]\n"
     ]
    },
    {
     "data": {
      "image/png": "[encoded data removed]",
      "text/plain": [
       "<Figure size 432x288 with 2 Axes>"
      ]
     },
     "metadata": {
      "needs_background": "light"
     },
     "output_type": "display_data"
    }
   ],
   "source": [
    "# VISUALIZNG CONFUSION MATRIX\n",
    "\n",
    "cnf_matrix_mlp=confusion_matrix(y_test,pred_mlp)\n",
    "#print(cnf_matrix_mlp)\n",
    "plot_confusion_matrix(cnf_matrix_mlp,[0,1],normalize=False,title=\"Confusion Matrix\")"
   ]
  },
  {
   "cell_type": "code",
   "execution_count": 68,
   "metadata": {},
   "outputs": [
    {
     "data": {
      "image/png": "[encoded data removed]",
      "text/plain": [
       "<Figure size 432x288 with 1 Axes>"
      ]
     },
     "metadata": {
      "needs_background": "light"
     },
     "output_type": "display_data"
    }
   ],
   "source": [
    "# PLOTTING AUC-ROC CURVE\n",
    "\n",
    "probs_mlp= model.predict_proba(X_test)\n",
    "fpr, tpr, thresholds = metrics.roc_curve(y_test,probs_mlp)\n",
    "plt.title(\"AUC-ROC curve--MLP\",color=\"green\",fontsize=20)\n",
    "plt.xlabel(\"False positive rate\")\n",
    "plt.ylabel(\"True positive rate\")\n",
    "plt.plot(fpr,tpr,linewidth=2, markersize=12)\n",
    "plt.show()"
   ]
  },
  {
   "cell_type": "code",
   "execution_count": null,
   "metadata": {},
   "outputs": [],
   "source": []
  },
  {
   "cell_type": "markdown",
   "metadata": {},
   "source": [
    "## comparision between diffeternt algorithms "
   ]
  },
  {
   "cell_type": "code",
   "execution_count": 69,
   "metadata": {},
   "outputs": [],
   "source": [
    "classifiers=[]\n",
    "\n",
    "classifiers.append(('LogisticRegression',clf_lr))\n",
    "classifiers.append(('MNB',clf_mnb))\n",
    "classifiers.append(('KNN',clf_knn))\n",
    "classifiers.append(('SVM',clf_svm))\n",
    "classifiers.append(('Desicion Tree',clf_dtc))\n",
    "classifiers.append(('Random Forest',clf_rf))\n",
    "classifiers.append(('AdaBoost',clf_adb))\n",
    "classifiers.append(('MLP',model))"
   ]
  },
  {
   "cell_type": "code",
   "execution_count": 82,
   "metadata": {},
   "outputs": [
    {
     "name": "stdout",
     "output_type": "stream",
     "text": [
      "[[0.]\n",
      " [0.]\n",
      " [0.]\n",
      " ...\n",
      " [0.]\n",
      " [1.]\n",
      " [0.]]\n"
     ]
    }
   ],
   "source": [
    "result=[]\n",
    "cnf_matric_parameter=[]\n",
    "for i,v in classifiers:\n",
    "    if i=='MLP':\n",
    "        pred=v.predict(X_test)\n",
    "        pred[pred>=0.5]=1\n",
    "        pred[pred<0.5]=0\n",
    "        print(pred)\n",
    "        acc=accuracy_score(y_test,pred)\n",
    "        precision = precision_score(y_test,pred)\n",
    "        recall=recall_score(y_test, pred)\n",
    "        f_measure=f1_score(y_test,pred)\n",
    "        result.append((i,acc,precision,recall,f_measure))\n",
    "        \n",
    "        TP,FP,TN,FN=perf_measure(y_test,pred)\n",
    "        cnf_matric_parameter.append((i,TP,FP,TN,FN))\n",
    "        continue\n",
    "        \n",
    "    \n",
    "    pred=v.predict(X_test)\n",
    "    acc=accuracy_score(y_test,pred)\n",
    "    precision = precision_score(y_test,pred)\n",
    "    recall=recall_score(y_test, pred)\n",
    "    #print(precision)\n",
    "    f_measure=f1_score(y_test,pred)\n",
    "    result.append((i,acc,precision,recall,f_measure))\n",
    "    \n",
    "    TP,FP,TN,FN=perf_measure(y_test,pred)\n",
    "    cnf_matric_parameter.append((i,TP,FP,TN,FN))"
   ]
  },
  {
   "cell_type": "code",
   "execution_count": 83,
   "metadata": {},
   "outputs": [
    {
     "name": "stdout",
     "output_type": "stream",
     "text": [
      "            Algorithm  Accuracy  Precision    Recall  F-measure\n",
      "0  LogisticRegression  0.967105   0.956757  0.790179   0.865526\n",
      "1                 MNB  0.982656   0.949309  0.919643   0.934240\n",
      "2                 KNN  0.954545   0.993333  0.665179   0.796791\n",
      "3                 SVM  0.980861   0.975248  0.879464   0.924883\n",
      "4       Desicion Tree  0.970694   0.892377  0.888393   0.890380\n",
      "5       Random Forest  0.977871   1.000000  0.834821   0.909976\n",
      "6            AdaBoost  0.976675   0.955665  0.866071   0.908665\n",
      "7                 MLP  0.982656   0.985075  0.883929   0.931765\n"
     ]
    }
   ],
   "source": [
    "column_names=['Algorithm','Accuracy','Precision','Recall','F-measure']\n",
    "df1=pd.DataFrame(result,columns=column_names)\n",
    "print(df1)"
   ]
  },
  {
   "cell_type": "code",
   "execution_count": 84,
   "metadata": {},
   "outputs": [
    {
     "data": {
      "text/plain": [
       "<matplotlib.legend.Legend at 0x7fa3a5016f50>"
      ]
     },
     "execution_count": 84,
     "metadata": {},
     "output_type": "execute_result"
    },
    {
     "data": {
      "image/png": "[encoded data removed]",
      "text/plain": [
       "<Figure size 1080x432 with 1 Axes>"
      ]
     },
     "metadata": {
      "needs_background": "light"
     },
     "output_type": "display_data"
    }
   ],
   "source": [
    "df1.plot(kind='bar', ylim=(0.65,1.0), figsize=(15,6), align='center', colormap=\"Accent\")\n",
    "plt.xticks(np.arange(8), df1['Algorithm'],fontsize=15)\n",
    "plt.ylabel('Score',fontsize=20)\n",
    "plt.title('Distribution by Classifier',fontsize=20)\n",
    "plt.legend(bbox_to_anchor=(1.05, 1), loc=2, borderaxespad=0.,fontsize=20)"
   ]
  },
  {
   "cell_type": "code",
   "execution_count": 85,
   "metadata": {},
   "outputs": [
    {
     "name": "stdout",
     "output_type": "stream",
     "text": [
      "            Algorithm  True_Pos  False_Pos  True_Neg  False_Neg\n",
      "0  LogisticRegression       177          8      1440         47\n",
      "1                 MNB       206         11      1437         18\n",
      "2                 KNN       149          1      1447         75\n",
      "3                 SVM       197          5      1443         27\n",
      "4       Desicion Tree       199         24      1424         25\n",
      "5       Random Forest       187          0      1448         37\n",
      "6            AdaBoost       194          9      1439         30\n",
      "7                 MLP       198          3      1445         26\n"
     ]
    }
   ],
   "source": [
    "column_names=['Algorithm','True_Pos','False_Pos','True_Neg','False_Neg']\n",
    "df2=pd.DataFrame(cnf_matric_parameter,columns=column_names)\n",
    "print(df2)"
   ]
  },
  {
   "cell_type": "code",
   "execution_count": 86,
   "metadata": {},
   "outputs": [],
   "source": [
    "## save the result as a csv file to the disk\n",
    "\n",
    "df1.to_csv(\"result_spam_sms_det.csv\",index=True)\n",
    "df2.to_csv(\"cnf_matrix_parameter.csv\",index=True)"
   ]
  },
  {
   "cell_type": "markdown",
   "metadata": {},
   "source": [
    "## PERFORMANCE METRICS/ ERROR MEASURES"
   ]
  },
  {
   "cell_type": "code",
   "execution_count": 87,
   "metadata": {},
   "outputs": [],
   "source": [
    "from sklearn.metrics import mean_absolute_error\n",
    "from sklearn.metrics import matthews_corrcoef\n",
    "from sklearn.metrics import mean_squared_error\n",
    "import math"
   ]
  },
  {
   "cell_type": "code",
   "execution_count": 88,
   "metadata": {},
   "outputs": [],
   "source": [
    "EPSILON = 1e-10\n",
    "def rae(actual: np.ndarray, predicted: np.ndarray):\n",
    "    \"\"\" Relative Absolute Error (aka Approximation Error) \"\"\"\n",
    "    return np.sum(np.abs(actual - predicted)) / (np.sum(np.abs(actual - np.mean(actual))) + EPSILON)\n",
    "\n",
    "def rrse(actual: np.ndarray, predicted: np.ndarray):\n",
    "    \"\"\" Root Relative Squared Error \"\"\"\n",
    "    return np.sqrt(np.sum(np.square(actual - predicted)) / np.sum(np.square(actual - np.mean(actual))))"
   ]
  },
  {
   "cell_type": "code",
   "execution_count": 90,
   "metadata": {},
   "outputs": [],
   "source": [
    "performance_metrics=[]\n",
    "for i,v in classifiers:\n",
    "    if i=='MLP':\n",
    "        pred=v.predict(X_test)\n",
    "        pred[pred>=0.5]=1\n",
    "        pred[pred<0.5]=0\n",
    "        pred=pred.reshape(-1)\n",
    "        #print(y_test.shape,pred.shape)\n",
    "        \n",
    "        mae=mean_absolute_error(y_test,pred)\n",
    "        mcc=matthews_corrcoef(y_test,pred)\n",
    "        mse=mean_squared_error(y_test,pred)\n",
    "        rmse = math.sqrt(mse)\n",
    "        rrsError=rrse(y_test,pred)\n",
    "        raError=rae(y_test,pred)\n",
    "        performance_metrics.append((i,mcc,mae,rmse,rrsError,raError))\n",
    "        continue\n",
    "        \n",
    "    \n",
    "    pred=v.predict(X_test)\n",
    "    #print(y_test.shape,pred.shape)\n",
    "    mae=mean_absolute_error(y_test,pred)\n",
    "    mcc=matthews_corrcoef(y_test, pred)\n",
    "    mse=mean_squared_error(y_test,pred)\n",
    "    rmse = math.sqrt(mse)\n",
    "    rrsError=rrse(y_test,pred)\n",
    "    raError=rae(y_test,pred)\n",
    "    performance_metrics.append((i,mcc,mae,rmse,rrsError,raError))"
   ]
  },
  {
   "cell_type": "code",
   "execution_count": 91,
   "metadata": {},
   "outputs": [
    {
     "name": "stdout",
     "output_type": "stream",
     "text": [
      "            Algorithm  corr_coef       MAE      RMSE      RRSE       RAE\n",
      "0  LogisticRegression   0.852011  0.032895  0.181369  0.532465  0.141760\n",
      "1                 MNB   0.924408  0.017344  0.131699  0.386642  0.074746\n",
      "2                 KNN   0.792031  0.045455  0.213201  0.625917  0.195886\n",
      "3                 SVM   0.915553  0.019139  0.138343  0.406148  0.082478\n",
      "4       Desicion Tree   0.873469  0.029306  0.171191  0.502583  0.126295\n",
      "5       Random Forest   0.902231  0.022129  0.148759  0.436728  0.095366\n",
      "6            AdaBoost   0.896758  0.023325  0.152726  0.448376  0.100520\n",
      "7                 MLP   0.923638  0.017344  0.131699  0.386642  0.074746\n"
     ]
    }
   ],
   "source": [
    "# corr_coef == Matthews correlation coefficient\n",
    "\n",
    "column_names=['Algorithm','corr_coef','MAE','RMSE','RRSE','RAE']\n",
    "df3=pd.DataFrame(performance_metrics,columns=column_names)\n",
    "print(df3)"
   ]
  },
  {
   "cell_type": "code",
   "execution_count": 92,
   "metadata": {},
   "outputs": [],
   "source": [
    "# saving the performance merics to the disk\n",
    "\n",
    "df2.to_csv(\"performance_metrics.csv\",index=True)"
   ]
  },
  {
   "cell_type": "code",
   "execution_count": null,
   "metadata": {},
   "outputs": [],
   "source": []
  },
  {
   "cell_type": "code",
   "execution_count": null,
   "metadata": {},
   "outputs": [],
   "source": []
  },
  {
   "cell_type": "code",
   "execution_count": null,
   "metadata": {},
   "outputs": [],
   "source": []
  },
  {
   "cell_type": "code",
   "execution_count": null,
   "metadata": {},
   "outputs": [],
   "source": []
  }
 ],
 "metadata": {
  "kernelspec": {
   "display_name": "Python 3",
   "language": "python",
   "name": "python3"
  },
  "language_info": {
   "codemirror_mode": {
    "name": "ipython",
    "version": 3
   },
   "file_extension": ".py",
   "mimetype": "text/x-python",
   "name": "python",
   "nbconvert_exporter": "python",
   "pygments_lexer": "ipython3",
   "version": "3.6.9"
  }
 },
 "nbformat": 4,
 "nbformat_minor": 2
}
